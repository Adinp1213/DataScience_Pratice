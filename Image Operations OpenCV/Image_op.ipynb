{
 "cells": [
  {
   "cell_type": "markdown",
   "metadata": {},
   "source": [
    "# Image Operations using Opencv Library"
   ]
  },
  {
   "cell_type": "markdown",
   "metadata": {},
   "source": [
    "Neccesary Imports"
   ]
  },
  {
   "cell_type": "code",
   "execution_count": 2,
   "metadata": {},
   "outputs": [],
   "source": [
    "import pandas as pd\n",
    "import cv2"
   ]
  },
  {
   "cell_type": "code",
   "execution_count": 11,
   "metadata": {},
   "outputs": [
    {
     "name": "stderr",
     "output_type": "stream",
     "text": [
      "C:\\Users\\Aditya\\AppData\\Local\\Temp\\ipykernel_12496\\1085507504.py:6: RuntimeWarning: divide by zero encountered in divide\n",
      "  resultimage = gray_image/inverted_image\n"
     ]
    }
   ],
   "source": [
    "image = cv2.imread(\"dog.jpg\")\n",
    "gray_image = cv2.cvtColor(image, cv2.COLOR_BGR2GRAY)\n",
    "inverted_image = cv2.bitwise_not(gray_image)\n",
    "blurred_image = cv2.GaussianBlur(inverted_image, (21, 21), 0) \n",
    "pencil_sketch = cv2.divide(gray_image, 255 - blurred_image, scale=256.0)\n",
    "resultimage = gray_image/inverted_image\n",
    "if image is not None:\n",
    "    # Display the image\n",
    "    cv2.imshow(\"Dog\", resultimage)\n",
    "    cv2.waitKey(0)\n",
    "    cv2.destroyAllWindows()\n",
    "else:\n",
    "    print(\"Error: Could not load image.\")"
   ]
  },
  {
   "cell_type": "code",
   "execution_count": 9,
   "metadata": {},
   "outputs": [],
   "source": [
    "import cv2\n",
    "import numpy as np\n",
    "\n",
    "# Load the image\n",
    "image = cv2.imread(\"dog.jpg\")\n",
    "\n",
    "# Check if the image was loaded properly\n",
    "if image is None:\n",
    "    print(\"Error: Could not load image.\")\n",
    "else:\n",
    "    # Convert the image to grayscale\n",
    "    gray_image = cv2.cvtColor(image, cv2.COLOR_BGR2GRAY)\n",
    "\n",
    "    # Invert the grayscale image\n",
    "    inverted_image = cv2.bitwise_not(gray_image)\n",
    "\n",
    "    # Apply Gaussian blur to the grayscale image\n",
    "    blurred_image = cv2.GaussianBlur(gray_image, (15, 15), 0)\n",
    "\n",
    "    # Detect edges using Canny edge detector\n",
    "    edges = cv2.Canny(gray_image, 100, 200)\n",
    "\n",
    "    # Resize the image to half its original dimensions\n",
    "    height, width = image.shape[:2]\n",
    "    resized_image = cv2.resize(image, (width // 2, height // 2))\n",
    "\n",
    "    # Rotate the image by 45 degrees\n",
    "    center = (width // 2, height // 2)\n",
    "    matrix = cv2.getRotationMatrix2D(center, 45, 1.0)\n",
    "    rotated_image = cv2.warpAffine(image, matrix, (width, height))\n",
    "\n",
    "    # Save the processed images\n",
    "    cv2.imwrite(\"gray_image.jpg\", gray_image)\n",
    "    cv2.imwrite(\"inverted_image.jpg\", inverted_image)\n",
    "    cv2.imwrite(\"blurred_image.jpg\", blurred_image)\n",
    "    cv2.imwrite(\"edges.jpg\", edges)\n",
    "    cv2.imwrite(\"resized_image.jpg\", resized_image)\n",
    "    cv2.imwrite(\"rotated_image.jpg\", rotated_image)\n",
    "\n",
    "    # Display all the images\n",
    "    cv2.imshow(\"Original Image\", image)\n",
    "    cv2.imshow(\"Grayscale Image\", gray_image)\n",
    "    cv2.imshow(\"Inverted Image\", inverted_image)\n",
    "    cv2.imshow(\"Blurred Image\", blurred_image)\n",
    "    cv2.imshow(\"Edges\", edges)\n",
    "    cv2.imshow(\"Resized Image\", resized_image)\n",
    "    cv2.imshow(\"Rotated Image\", rotated_image)\n",
    "\n",
    "    # Wait until a key is pressed and close all windows\n",
    "    cv2.waitKey(0)\n",
    "    cv2.destroyAllWindows()\n"
   ]
  },
  {
   "cell_type": "markdown",
   "metadata": {},
   "source": [
    "### references\n",
    "https://platform.stratascratch.com/data-projects/image-pencil-sketch"
   ]
  }
 ],
 "metadata": {
  "kernelspec": {
   "display_name": "Python 3",
   "language": "python",
   "name": "python3"
  },
  "language_info": {
   "codemirror_mode": {
    "name": "ipython",
    "version": 3
   },
   "file_extension": ".py",
   "mimetype": "text/x-python",
   "name": "python",
   "nbconvert_exporter": "python",
   "pygments_lexer": "ipython3",
   "version": "3.9.2"
  }
 },
 "nbformat": 4,
 "nbformat_minor": 2
}
